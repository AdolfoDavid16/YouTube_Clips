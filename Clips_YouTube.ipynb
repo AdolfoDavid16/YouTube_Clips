{
  "nbformat": 4,
  "nbformat_minor": 0,
  "metadata": {
    "colab": {
      "provenance": [],
      "authorship_tag": "ABX9TyM+fGIqVOI/bsGvEUvgiOyA",
      "include_colab_link": true
    },
    "kernelspec": {
      "name": "python3",
      "display_name": "Python 3"
    },
    "language_info": {
      "name": "python"
    }
  },
  "cells": [
    {
      "cell_type": "markdown",
      "metadata": {
        "id": "view-in-github",
        "colab_type": "text"
      },
      "source": [
        "<a href=\"https://colab.research.google.com/github/AdolfoDavid16/YouTube_Clips/blob/main/Clips_YouTube.ipynb\" target=\"_parent\"><img src=\"https://colab.research.google.com/assets/colab-badge.svg\" alt=\"Open In Colab\"/></a>"
      ]
    },
    {
      "cell_type": "markdown",
      "source": [
        "# En este código puedes hacer clips de videos de Youtube\n"
      ],
      "metadata": {
        "id": "4BJhowdqqQl6"
      }
    },
    {
      "cell_type": "markdown",
      "source": [
        "**primero instalamos las librerías necesarias**"
      ],
      "metadata": {
        "id": "53PXDBSJqkhM"
      }
    },
    {
      "cell_type": "code",
      "source": [
        "!pip install moviepy\n",
        "!pip install pytube"
      ],
      "metadata": {
        "id": "dKj2JFDadkSz"
      },
      "execution_count": null,
      "outputs": []
    },
    {
      "cell_type": "markdown",
      "source": [
        "# **en esta celda seguimos las indicaciones que nos muestra**\n",
        "\n",
        "\n",
        "1.   Ingresar link del video a recortar\n",
        "2.   Ingresar el tiempo de inicio (en el formato de Horas, Minutos y Segundos)\n",
        "3.   Ingresar en tiempo final.\n",
        "\n",
        "\n",
        "NOTA: una vez descargado el video, este aparece en la carpeta de archivos con el nombre de origen más la palabra \"recortado.mp4\" al final, le da doble click y lo descarga en su equipo.\n",
        "\n",
        "\n",
        "\n"
      ],
      "metadata": {
        "id": "1Oyb6TSlqvL2"
      }
    },
    {
      "cell_type": "code",
      "source": [
        "# Importar las bibliotecas necesarias\n",
        "import moviepy.editor as mp\n",
        "from pytube import YouTube\n",
        "\n",
        "# Solicitar al usuario la URL del video de YouTube\n",
        "video_url = input(\"Ingresa el enlace del video de YouTube que deseas recortar: \")\n",
        "\n",
        "# Crear una instancia de la clase YouTube\n",
        "yt = YouTube(video_url)\n",
        "\n",
        "# Obtener la información del video\n",
        "video_title = yt.title\n",
        "video_length = yt.length\n",
        "print(f\"Video encontrado: {video_title}\")\n",
        "print(f\"Duración total del video: {video_length} segundos\")\n",
        "\n",
        "# Solicitar al usuario los tiempos de inicio y final para el recorte\n",
        "start_time = input(\"Ingresa el tiempo de inicio (en formato HH:MM:SS): \")\n",
        "end_time = input(\"Ingresa el tiempo final (en formato HH:MM:SS): \")\n",
        "\n",
        "# Convertir los tiempos de inicio y final a segundos\n",
        "start_time_seconds = sum(x * int(t) for x, t in zip([3600, 60, 1], start_time.split(\":\")))\n",
        "end_time_seconds = sum(x * int(t) for x, t in zip([3600, 60, 1], end_time.split(\":\")))\n",
        "\n",
        "# Descargar el video en la máxima resolución posible\n",
        "stream = yt.streams.get_highest_resolution()\n",
        "video_filename = f\"{video_title}.mp4\"\n",
        "stream.download(filename=video_filename)\n",
        "\n",
        "# Cargar el video descargado con moviepy\n",
        "video_clip = mp.VideoFileClip(video_filename)\n",
        "\n",
        "# Recortar el clip según los tiempos especificados\n",
        "clip = video_clip.subclip(start_time_seconds, end_time_seconds)\n",
        "\n",
        "# Guardar el clip recortado\n",
        "output_filename = f\"{video_title}_recortado.mp4\"\n",
        "clip.write_videofile(output_filename)\n",
        "\n",
        "# Mostrar un mensaje de finalización\n",
        "print(f\"El clip recortado se ha guardado como '{output_filename}'\")\n"
      ],
      "metadata": {
        "id": "YEWrzYB8pOkY"
      },
      "execution_count": null,
      "outputs": []
    }
  ]
}