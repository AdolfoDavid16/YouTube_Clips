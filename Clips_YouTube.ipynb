{
  "nbformat": 4,
  "nbformat_minor": 0,
  "metadata": {
    "colab": {
      "provenance": [],
      "authorship_tag": "ABX9TyMFbv4WqoDVnbLBBSbXkF88",
      "include_colab_link": true
    },
    "kernelspec": {
      "name": "python3",
      "display_name": "Python 3"
    },
    "language_info": {
      "name": "python"
    }
  },
  "cells": [
    {
      "cell_type": "markdown",
      "metadata": {
        "id": "view-in-github",
        "colab_type": "text"
      },
      "source": [
        "<a href=\"https://colab.research.google.com/github/AdolfoDavid16/YouTube_Clips/blob/main/Clips_YouTube.ipynb\" target=\"_parent\"><img src=\"https://colab.research.google.com/assets/colab-badge.svg\" alt=\"Open In Colab\"/></a>"
      ]
    },
    {
      "cell_type": "code",
      "source": [
        "!pip install moviepy\n",
        "!pip install pytube"
      ],
      "metadata": {
        "id": "dKj2JFDadkSz"
      },
      "execution_count": null,
      "outputs": []
    },
    {
      "cell_type": "code",
      "source": [
        "# Importar las bibliotecas necesarias\n",
        "import moviepy.editor as mp\n",
        "from pytube import YouTube\n",
        "\n",
        "# Solicitar al usuario la URL del video de YouTube\n",
        "video_url = input(\"Ingresa el enlace del video de YouTube que deseas recortar: \")\n",
        "\n",
        "# Crear una instancia de la clase YouTube\n",
        "yt = YouTube(video_url)\n",
        "\n",
        "# Obtener la información del video\n",
        "video_title = yt.title\n",
        "video_length = yt.length\n",
        "print(f\"Video encontrado: {video_title}\")\n",
        "print(f\"Duración total del video: {video_length} segundos\")\n",
        "\n",
        "# Solicitar al usuario los tiempos de inicio y final para el recorte\n",
        "start_time = int(input(\"Ingresa el tiempo de inicio (en segundos): \"))\n",
        "end_time = int(input(\"Ingresa el tiempo final (en segundos): \"))\n",
        "\n",
        "# Descargar el video en la máxima resolución posible\n",
        "stream = yt.streams.get_highest_resolution()\n",
        "video_filename = f\"{video_title}.mp4\"\n",
        "stream.download(filename=video_filename)\n",
        "\n",
        "# Cargar el video descargado con moviepy\n",
        "video_clip = mp.VideoFileClip(video_filename)\n",
        "\n",
        "# Recortar el clip según los tiempos especificados\n",
        "clip = video_clip.subclip(start_time, end_time)\n",
        "\n",
        "# Guardar el clip recortado\n",
        "output_filename = f\"{video_title}_recortado.mp4\"\n",
        "clip.write_videofile(output_filename)\n",
        "\n",
        "# Mostrar un mensaje de finalización\n",
        "print(f\"El clip recortado se ha guardado como '{output_filename}'\")\n"
      ],
      "metadata": {
        "colab": {
          "base_uri": "https://localhost:8080/"
        },
        "id": "MJt5ZkvNdhVg",
        "outputId": "6ced0f72-9ebe-497b-877d-033e21d3400f"
      },
      "execution_count": 5,
      "outputs": [
        {
          "output_type": "stream",
          "name": "stdout",
          "text": [
            "Ingresa el enlace del video de YouTube que deseas recortar: https://www.youtube.com/watch?v=p-pBHQh8WVI\n",
            "Video encontrado: Trackeo de Objetos con Yolov8 y SORT | Object Tracking\n",
            "Duración total del video: 1472 segundos\n",
            "Ingresa el tiempo de inicio (en segundos): 738\n",
            "Ingresa el tiempo final (en segundos): 768\n",
            "Moviepy - Building video Trackeo de Objetos con Yolov8 y SORT | Object Tracking_recortado.mp4.\n",
            "MoviePy - Writing audio in Trackeo de Objetos con Yolov8 y SORT | Object Tracking_recortadoTEMP_MPY_wvf_snd.mp3\n"
          ]
        },
        {
          "output_type": "stream",
          "name": "stderr",
          "text": []
        },
        {
          "output_type": "stream",
          "name": "stdout",
          "text": [
            "MoviePy - Done.\n",
            "Moviepy - Writing video Trackeo de Objetos con Yolov8 y SORT | Object Tracking_recortado.mp4\n",
            "\n"
          ]
        },
        {
          "output_type": "stream",
          "name": "stderr",
          "text": []
        },
        {
          "output_type": "stream",
          "name": "stdout",
          "text": [
            "Moviepy - Done !\n",
            "Moviepy - video ready Trackeo de Objetos con Yolov8 y SORT | Object Tracking_recortado.mp4\n",
            "El clip recortado se ha guardado como 'Trackeo de Objetos con Yolov8 y SORT | Object Tracking_recortado.mp4'\n"
          ]
        }
      ]
    }
  ]
}